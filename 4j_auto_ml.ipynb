{
 "cells": [
  {
   "cell_type": "markdown",
   "metadata": {},
   "source": [
    "# Automated Machine Learning (Titanic Dataset)"
   ]
  },
  {
   "cell_type": "markdown",
   "metadata": {},
   "source": [
    "The flaml library from Microsoft can automate the process of selecting a model and appropriate hyperparameters. \n",
    "\n",
    "It is just one of the automated machine learning libraries out there!\n",
    "\n",
    "First, let's import the flaml library, along with our standard imports for data manipulation and machine learning. "
   ]
  },
  {
   "cell_type": "code",
   "execution_count": 36,
   "metadata": {},
   "outputs": [],
   "source": [
    "try:\n",
    "    from flaml import AutoML\n",
    "except ModuleNotFoundError:\n",
    "    !pip install flaml\n",
    "\n",
    "import pandas as pd\n",
    "import numpy as np\n",
    "\n",
    "# Machine learning setup imports\n",
    "from sklearn.model_selection import train_test_split\n",
    "\n",
    "# Model imports\n",
    "from xgboost import XGBClassifier\n",
    "from lightgbm import LGBMClassifier\n",
    "from sklearn.ensemble import RandomForestClassifier\n",
    "from sklearn.tree import DecisionTreeClassifier\n",
    "from catboost import CatBoostClassifier\n",
    "\n",
    "# Model scoring imports\n",
    "from sklearn.metrics import ConfusionMatrixDisplay, confusion_matrix, f1_score, precision_score, \\\n",
    "                            recall_score, roc_auc_score"
   ]
  },
  {
   "cell_type": "markdown",
   "metadata": {},
   "source": [
    "We're going to work with the preprocessed titanic data, splitting it into training, validation and testing datasets."
   ]
  },
  {
   "cell_type": "code",
   "execution_count": 37,
   "metadata": {},
   "outputs": [
    {
     "name": "stdout",
     "output_type": "stream",
     "text": [
      "Training Dataset Samples: 569\n",
      "Validation Dataset Samples: 143\n",
      "Testing Dataset Samples: 179\n"
     ]
    }
   ],
   "source": [
    "try:\n",
    "    data = pd.read_csv(\"data/processed_data.csv\")\n",
    "\n",
    "except FileNotFoundError:\n",
    "    # Download processed data:\n",
    "    address = 'https://raw.githubusercontent.com/MichaelAllen1966/' + \\\n",
    "                '1804_python_healthcare/master/titanic/data/processed_data.csv'\n",
    "\n",
    "    data = pd.read_csv(address)\n",
    "\n",
    "    # Create a data subfolder if one does not already exist\n",
    "    import os\n",
    "    data_directory ='./data/'\n",
    "    if not os.path.exists(data_directory):\n",
    "        os.makedirs(data_directory)\n",
    "\n",
    "    # Save data\n",
    "    data.to_csv(data_directory + 'processed_data.csv', index=False)\n",
    "\n",
    "data = data.astype(float)\n",
    "\n",
    "# Drop Passengerid (axis=1 indicates we are removing a column rather than a row)\n",
    "# We drop passenger ID as it is not original data\n",
    "\n",
    "data.drop('PassengerId', inplace=True, axis=1)\n",
    "\n",
    "X = data.drop('Survived',axis=1) # X = all 'data' except the 'survived' column\n",
    "y = data['Survived'] # y = 'survived' column from 'data'\n",
    "\n",
    "feature_names = X.columns.tolist()\n",
    "\n",
    "X_train_val, X_test, y_train_val, y_test = train_test_split(X, y, test_size=0.2, random_state=42)\n",
    "X_train, X_validate, y_train, y_validate = train_test_split(X_train_val, y_train_val, test_size=0.2, random_state=42)\n",
    "\n",
    "print(f\"Training Dataset Samples: {len(X_train)}\")\n",
    "print(f\"Validation Dataset Samples: {len(X_validate)}\")\n",
    "print(f\"Testing Dataset Samples: {len(X_test)}\")"
   ]
  },
  {
   "cell_type": "markdown",
   "metadata": {},
   "source": [
    "## Simple initial auto ML training"
   ]
  },
  {
   "cell_type": "markdown",
   "metadata": {},
   "source": [
    "Let's try out a simple instance of automated training with flaml. \n",
    "\n",
    "We need to pass in training and testing data, tell it what kind of task we're conducting (e.g. classification, regression), how long to keep trying different models (here, we've gone for 60 seconds), and set a random seed for reproducibility. "
   ]
  },
  {
   "cell_type": "code",
   "execution_count": null,
   "metadata": {},
   "outputs": [],
   "source": [
    "automl = AutoML()\n",
    "automl.fit(X_train, y_train,\n",
    "           task=\"classification\",\n",
    "           time_budget=60,\n",
    "           seed=42)"
   ]
  },
  {
   "cell_type": "markdown",
   "metadata": {},
   "source": [
    "We can run this line to see what model it selected."
   ]
  },
  {
   "cell_type": "code",
   "execution_count": 39,
   "metadata": {},
   "outputs": [
    {
     "data": {
      "text/plain": [
       "<flaml.automl.model.CatBoostEstimator at 0x28d4942f150>"
      ]
     },
     "execution_count": 39,
     "metadata": {},
     "output_type": "execute_result"
    }
   ],
   "source": [
    "automl.model"
   ]
  },
  {
   "cell_type": "markdown",
   "metadata": {},
   "source": [
    "And this will give us the parameters it chose. "
   ]
  },
  {
   "cell_type": "code",
   "execution_count": 40,
   "metadata": {},
   "outputs": [
    {
     "data": {
      "text/plain": [
       "{'early_stopping_rounds': 10,\n",
       " 'learning_rate': 0.08181308076296119,\n",
       " 'n_estimators': 21}"
      ]
     },
     "execution_count": 40,
     "metadata": {},
     "output_type": "execute_result"
    }
   ],
   "source": [
    "automl.best_config"
   ]
  },
  {
   "cell_type": "markdown",
   "metadata": {},
   "source": [
    "Finally, we can output the best configuration for each of the estimators it tried. "
   ]
  },
  {
   "cell_type": "code",
   "execution_count": 41,
   "metadata": {},
   "outputs": [
    {
     "data": {
      "text/plain": [
       "{'lgbm': {'n_estimators': 5,\n",
       "  'num_leaves': 35,\n",
       "  'min_child_samples': 12,\n",
       "  'learning_rate': 0.6152167721646307,\n",
       "  'log_max_bin': 9,\n",
       "  'colsample_bytree': 0.9236754665076755,\n",
       "  'reg_alpha': 0.0009765625,\n",
       "  'reg_lambda': 2.5956586580400387},\n",
       " 'rf': {'n_estimators': 8,\n",
       "  'max_features': 0.3522661192428198,\n",
       "  'max_leaves': 11,\n",
       "  'criterion': 'gini'},\n",
       " 'catboost': {'early_stopping_rounds': 10,\n",
       "  'learning_rate': 0.08181308076296119,\n",
       "  'n_estimators': 21},\n",
       " 'xgboost': {'n_estimators': 49,\n",
       "  'max_leaves': 8,\n",
       "  'min_child_weight': 1.6432463021924941,\n",
       "  'learning_rate': 0.1014993900453572,\n",
       "  'subsample': 0.892732835389516,\n",
       "  'colsample_bylevel': 1.0,\n",
       "  'colsample_bytree': 1.0,\n",
       "  'reg_alpha': 0.26675517308462793,\n",
       "  'reg_lambda': 0.023187687303412453},\n",
       " 'extra_tree': {'n_estimators': 9,\n",
       "  'max_features': 0.21337293465256343,\n",
       "  'max_leaves': 14,\n",
       "  'criterion': 'gini'},\n",
       " 'xgb_limitdepth': {'n_estimators': 9,\n",
       "  'max_depth': 7,\n",
       "  'min_child_weight': 1.5981523613778321,\n",
       "  'learning_rate': 0.4433369998455015,\n",
       "  'subsample': 0.9186551030103914,\n",
       "  'colsample_bylevel': 1.0,\n",
       "  'colsample_bytree': 0.9480491857726955,\n",
       "  'reg_alpha': 0.0009765625,\n",
       "  'reg_lambda': 0.15817424342486922},\n",
       " 'lrl1': None}"
      ]
     },
     "execution_count": 41,
     "metadata": {},
     "output_type": "execute_result"
    }
   ],
   "source": [
    "automl.best_config_per_estimator"
   ]
  },
  {
   "cell_type": "markdown",
   "metadata": {},
   "source": [
    "Now let's evaluate this model and put the results into a dataframe.\n",
    "\n",
    "We can use our `automl` variable where we'd usually use `model`. "
   ]
  },
  {
   "cell_type": "code",
   "execution_count": 42,
   "metadata": {},
   "outputs": [
    {
     "data": {
      "text/html": [
       "<div>\n",
       "<style scoped>\n",
       "    .dataframe tbody tr th:only-of-type {\n",
       "        vertical-align: middle;\n",
       "    }\n",
       "\n",
       "    .dataframe tbody tr th {\n",
       "        vertical-align: top;\n",
       "    }\n",
       "\n",
       "    .dataframe thead th {\n",
       "        text-align: right;\n",
       "    }\n",
       "</style>\n",
       "<table border=\"1\" class=\"dataframe\">\n",
       "  <thead>\n",
       "    <tr style=\"text-align: right;\">\n",
       "      <th></th>\n",
       "      <th>Accuracy (training)</th>\n",
       "      <th>Accuracy (validation)</th>\n",
       "      <th>Precision (validation)</th>\n",
       "      <th>Recall (validation)</th>\n",
       "      <th>AUC</th>\n",
       "      <th>Training AUC</th>\n",
       "      <th>f1</th>\n",
       "      <th>Training f1</th>\n",
       "      <th>FP</th>\n",
       "      <th>FN</th>\n",
       "    </tr>\n",
       "  </thead>\n",
       "  <tbody>\n",
       "    <tr>\n",
       "      <th>Auto ML - Default Parameters - Scoring on ROC AUC</th>\n",
       "      <td>0.863</td>\n",
       "      <td>0.811</td>\n",
       "      <td>0.802</td>\n",
       "      <td>0.8</td>\n",
       "      <td>0.8</td>\n",
       "      <td>0.846</td>\n",
       "      <td>0.801</td>\n",
       "      <td>0.851</td>\n",
       "      <td>13</td>\n",
       "      <td>14</td>\n",
       "    </tr>\n",
       "  </tbody>\n",
       "</table>\n",
       "</div>"
      ],
      "text/plain": [
       "                                                   Accuracy (training)  \\\n",
       "Auto ML - Default Parameters - Scoring on ROC AUC                0.863   \n",
       "\n",
       "                                                   Accuracy (validation)  \\\n",
       "Auto ML - Default Parameters - Scoring on ROC AUC                  0.811   \n",
       "\n",
       "                                                   Precision (validation)  \\\n",
       "Auto ML - Default Parameters - Scoring on ROC AUC                   0.802   \n",
       "\n",
       "                                                   Recall (validation)  AUC  \\\n",
       "Auto ML - Default Parameters - Scoring on ROC AUC                  0.8  0.8   \n",
       "\n",
       "                                                   Training AUC     f1  \\\n",
       "Auto ML - Default Parameters - Scoring on ROC AUC         0.846  0.801   \n",
       "\n",
       "                                                   Training f1  FP  FN  \n",
       "Auto ML - Default Parameters - Scoring on ROC AUC        0.851  13  14  "
      ]
     },
     "execution_count": 42,
     "metadata": {},
     "output_type": "execute_result"
    }
   ],
   "source": [
    "y_pred_train = automl.predict(X_train)\n",
    "y_pred_val = automl.predict(X_validate)\n",
    "\n",
    "tn, fp, fn, tp = confusion_matrix(y_validate, y_pred_val, labels=[0, 1]).ravel()\n",
    "\n",
    "results_df = pd.DataFrame({\n",
    "          'Accuracy (training)': np.mean(y_pred_train == y_train),\n",
    "          'Accuracy (validation)': np.mean(y_pred_val == y_validate),\n",
    "          'Precision (validation)': precision_score(y_validate, y_pred_val, average='macro'),\n",
    "          'Recall (validation)': recall_score(y_validate, y_pred_val, average='macro'),\n",
    "          \"AUC\": roc_auc_score(y_validate, y_pred_val),\n",
    "          \"Training AUC\": roc_auc_score(y_train, y_pred_train),\n",
    "          \"f1\": f1_score(y_validate, y_pred_val, average='macro'),\n",
    "          \"Training f1\": f1_score(y_train, y_pred_train, average='macro'),\n",
    "          \"FP\": fp,\n",
    "          \"FN\": fn\n",
    "\n",
    "          }, index=[\"Auto ML - Default Parameters - Scoring on ROC AUC\"]\n",
    ").round(3)\n",
    "\n",
    "results_df"
   ]
  },
  {
   "cell_type": "markdown",
   "metadata": {},
   "source": [
    "This seems like pretty reasonable performance, based on our previous interactions with the titanic dataset, though not as good as we've seen sometimes."
   ]
  },
  {
   "cell_type": "markdown",
   "metadata": {},
   "source": [
    "## Customisation"
   ]
  },
  {
   "cell_type": "markdown",
   "metadata": {},
   "source": [
    "Let's define a function that will allow us to quickly calculate and store metrics when assessing the `automl` library."
   ]
  },
  {
   "cell_type": "code",
   "execution_count": 43,
   "metadata": {},
   "outputs": [],
   "source": [
    "def auto_ml_get_results(name):\n",
    "    y_pred_train = automl.predict(X_train)\n",
    "    y_pred_val = automl.predict(X_validate)\n",
    "\n",
    "    tn, fp, fn, tp = confusion_matrix(y_validate, y_pred_val, labels=[0, 1]).ravel()\n",
    "\n",
    "    return pd.DataFrame({\n",
    "            'Accuracy (training)': np.mean(y_pred_train == y_train),\n",
    "            'Accuracy (validation)': np.mean(y_pred_val == y_validate),\n",
    "            'Precision (validation)': precision_score(y_validate, y_pred_val, average='macro'),\n",
    "            'Recall (validation)': recall_score(y_validate, y_pred_val, average='macro'),\n",
    "            \"AUC\": roc_auc_score(y_validate, y_pred_val),\n",
    "            \"Training AUC\": roc_auc_score(y_train, y_pred_train),\n",
    "            \"f1\": f1_score(y_validate, y_pred_val, average='macro'),\n",
    "            \"Training f1\": f1_score(y_train, y_pred_train, average='macro'),\n",
    "            \"FP\": fp,\n",
    "            \"FN\": fn\n",
    "\n",
    "            }, index=[name]\n",
    "    ).round(3)\n"
   ]
  },
  {
   "cell_type": "markdown",
   "metadata": {},
   "source": [
    "Now let's  try training again, this time asking it to score on a different metric - the f1 score."
   ]
  },
  {
   "cell_type": "code",
   "execution_count": null,
   "metadata": {},
   "outputs": [],
   "source": [
    "automl = AutoML()\n",
    "automl.fit(X_train, y_train,\n",
    "           task=\"classification\",\n",
    "           time_budget=60,\n",
    "           metric=\"f1\",\n",
    "           seed=42)\n",
    "results_df = pd.concat(\n",
    "    [results_df,\n",
    "    auto_ml_get_results(name=\"Auto ML - Scoring on f1\")]\n",
    ")"
   ]
  },
  {
   "cell_type": "markdown",
   "metadata": {},
   "source": [
    "## Extending the time "
   ]
  },
  {
   "cell_type": "markdown",
   "metadata": {},
   "source": [
    "When we ran it with the default settings previously (our first run), the fifth line of the output gave us the estimated time required to find an optimal model. \n",
    "\n",
    "> [flaml.automl.logger: 07-29 12:25:03] {2345} INFO - Estimated sufficient time budget=658s. Estimated necessary time budget=16s.\n",
    "\n",
    "Let's allocate this length of time."
   ]
  },
  {
   "cell_type": "code",
   "execution_count": null,
   "metadata": {},
   "outputs": [],
   "source": [
    "automl = AutoML()\n",
    "\n",
    "automl.fit(X_train, y_train,\n",
    "           task=\"classification\",\n",
    "           time_budget=658,\n",
    "           seed=42)\n",
    "\n",
    "results_df = pd.concat(\n",
    "    [results_df,\n",
    "    auto_ml_get_results(name=\"Auto ML - scoring on ROC AUC - Training for ~11 minutes\")]\n",
    ")"
   ]
  },
  {
   "cell_type": "markdown",
   "metadata": {},
   "source": [
    "Let's view our updated results table."
   ]
  },
  {
   "cell_type": "code",
   "execution_count": 46,
   "metadata": {},
   "outputs": [
    {
     "data": {
      "text/html": [
       "<div>\n",
       "<style scoped>\n",
       "    .dataframe tbody tr th:only-of-type {\n",
       "        vertical-align: middle;\n",
       "    }\n",
       "\n",
       "    .dataframe tbody tr th {\n",
       "        vertical-align: top;\n",
       "    }\n",
       "\n",
       "    .dataframe thead th {\n",
       "        text-align: right;\n",
       "    }\n",
       "</style>\n",
       "<table border=\"1\" class=\"dataframe\">\n",
       "  <thead>\n",
       "    <tr style=\"text-align: right;\">\n",
       "      <th></th>\n",
       "      <th>Accuracy (training)</th>\n",
       "      <th>Accuracy (validation)</th>\n",
       "      <th>Precision (validation)</th>\n",
       "      <th>Recall (validation)</th>\n",
       "      <th>AUC</th>\n",
       "      <th>Training AUC</th>\n",
       "      <th>f1</th>\n",
       "      <th>Training f1</th>\n",
       "      <th>FP</th>\n",
       "      <th>FN</th>\n",
       "    </tr>\n",
       "  </thead>\n",
       "  <tbody>\n",
       "    <tr>\n",
       "      <th>Auto ML - Default Parameters - Scoring on ROC AUC</th>\n",
       "      <td>0.863</td>\n",
       "      <td>0.811</td>\n",
       "      <td>0.802</td>\n",
       "      <td>0.800</td>\n",
       "      <td>0.800</td>\n",
       "      <td>0.846</td>\n",
       "      <td>0.801</td>\n",
       "      <td>0.851</td>\n",
       "      <td>13</td>\n",
       "      <td>14</td>\n",
       "    </tr>\n",
       "    <tr>\n",
       "      <th>Auto ML - Scoring on f1</th>\n",
       "      <td>0.914</td>\n",
       "      <td>0.825</td>\n",
       "      <td>0.820</td>\n",
       "      <td>0.809</td>\n",
       "      <td>0.809</td>\n",
       "      <td>0.897</td>\n",
       "      <td>0.813</td>\n",
       "      <td>0.906</td>\n",
       "      <td>10</td>\n",
       "      <td>15</td>\n",
       "    </tr>\n",
       "    <tr>\n",
       "      <th>Auto ML - scoring on ROC AUC - Training for ~11 minutes</th>\n",
       "      <td>0.884</td>\n",
       "      <td>0.797</td>\n",
       "      <td>0.787</td>\n",
       "      <td>0.792</td>\n",
       "      <td>0.792</td>\n",
       "      <td>0.863</td>\n",
       "      <td>0.789</td>\n",
       "      <td>0.872</td>\n",
       "      <td>16</td>\n",
       "      <td>13</td>\n",
       "    </tr>\n",
       "  </tbody>\n",
       "</table>\n",
       "</div>"
      ],
      "text/plain": [
       "                                                    Accuracy (training)  \\\n",
       "Auto ML - Default Parameters - Scoring on ROC AUC                 0.863   \n",
       "Auto ML - Scoring on f1                                           0.914   \n",
       "Auto ML - scoring on ROC AUC - Training for ~11...                0.884   \n",
       "\n",
       "                                                    Accuracy (validation)  \\\n",
       "Auto ML - Default Parameters - Scoring on ROC AUC                   0.811   \n",
       "Auto ML - Scoring on f1                                             0.825   \n",
       "Auto ML - scoring on ROC AUC - Training for ~11...                  0.797   \n",
       "\n",
       "                                                    Precision (validation)  \\\n",
       "Auto ML - Default Parameters - Scoring on ROC AUC                    0.802   \n",
       "Auto ML - Scoring on f1                                              0.820   \n",
       "Auto ML - scoring on ROC AUC - Training for ~11...                   0.787   \n",
       "\n",
       "                                                    Recall (validation)  \\\n",
       "Auto ML - Default Parameters - Scoring on ROC AUC                 0.800   \n",
       "Auto ML - Scoring on f1                                           0.809   \n",
       "Auto ML - scoring on ROC AUC - Training for ~11...                0.792   \n",
       "\n",
       "                                                      AUC  Training AUC  \\\n",
       "Auto ML - Default Parameters - Scoring on ROC AUC   0.800         0.846   \n",
       "Auto ML - Scoring on f1                             0.809         0.897   \n",
       "Auto ML - scoring on ROC AUC - Training for ~11...  0.792         0.863   \n",
       "\n",
       "                                                       f1  Training f1  FP  FN  \n",
       "Auto ML - Default Parameters - Scoring on ROC AUC   0.801        0.851  13  14  \n",
       "Auto ML - Scoring on f1                             0.813        0.906  10  15  \n",
       "Auto ML - scoring on ROC AUC - Training for ~11...  0.789        0.872  16  13  "
      ]
     },
     "execution_count": 46,
     "metadata": {},
     "output_type": "execute_result"
    }
   ],
   "source": [
    "results_df"
   ]
  },
  {
   "cell_type": "markdown",
   "metadata": {},
   "source": [
    "## Compare this with some other ML models"
   ]
  },
  {
   "cell_type": "markdown",
   "metadata": {},
   "source": [
    "Let's define a function to fit and train any provided model, then return the required metrics to be added onto our table from above.\n",
    "\n",
    "This will allow us to compare the performance of flaml with specifying the model ourselves."
   ]
  },
  {
   "cell_type": "code",
   "execution_count": 47,
   "metadata": {},
   "outputs": [],
   "source": [
    "def fit_train(name=\"XGBoost\", X_train=X_train, X_validate=X_validate,\n",
    "              y_train=y_train, y_validate=y_validate,\n",
    "              model=XGBClassifier(random_state=42)\n",
    "              ):\n",
    "\n",
    "     model.fit(X_train, y_train)\n",
    "\n",
    "     y_pred_train = model.predict(X_train)\n",
    "     y_pred_val = model.predict(X_validate)\n",
    "\n",
    "     tn, fp, fn, tp = confusion_matrix(y_validate, y_pred_val, labels=[0, 1]).ravel()\n",
    "\n",
    "     return pd.DataFrame({\n",
    "            'Accuracy (training)': np.mean(y_pred_train == y_train),\n",
    "            'Accuracy (validation)': np.mean(y_pred_val == y_validate),\n",
    "            'Precision (validation)': precision_score(y_validate, y_pred_val, average='macro'),\n",
    "            'Recall (validation)': recall_score(y_validate, y_pred_val, average='macro'),\n",
    "            \"AUC\": roc_auc_score(y_validate, y_pred_val),\n",
    "            \"Training AUC\": roc_auc_score(y_train, y_pred_train),\n",
    "            \"f1\": f1_score(y_validate, y_pred_val, average='macro'),\n",
    "            \"Training f1\": f1_score(y_train, y_pred_train, average='macro'),\n",
    "            \"FP\": fp,\n",
    "            \"FN\": fn\n",
    "          }, index=[name]\n",
    ").round(3)"
   ]
  },
  {
   "cell_type": "markdown",
   "metadata": {},
   "source": [
    "Let's use this to quickly assess the performance of a range of other models."
   ]
  },
  {
   "cell_type": "code",
   "execution_count": null,
   "metadata": {},
   "outputs": [],
   "source": [
    "results_df = pd.concat(\n",
    "    [results_df,\n",
    "     fit_train(), # This uses the default - xgboost\n",
    "     fit_train(name=\"Decision Tree (Defaults)\", model=DecisionTreeClassifier()),\n",
    "     fit_train(name=\"Random Forest (Defaults)\", model=RandomForestClassifier(random_state=42)),\n",
    "     fit_train(name=\"LightGBM (Defaults)\", model=LGBMClassifier(random_state=42)),\n",
    "     fit_train(name=\"Catboost (Defaults)\", model=CatBoostClassifier(random_state=42, verbose=False)),\n",
    "\n",
    "     ]\n",
    ")\n",
    "\n",
    "results_df"
   ]
  },
  {
   "cell_type": "markdown",
   "metadata": {},
   "source": [
    "Let's sort this by validation accuracy. "
   ]
  },
  {
   "cell_type": "code",
   "execution_count": 49,
   "metadata": {},
   "outputs": [
    {
     "data": {
      "text/html": [
       "<div>\n",
       "<style scoped>\n",
       "    .dataframe tbody tr th:only-of-type {\n",
       "        vertical-align: middle;\n",
       "    }\n",
       "\n",
       "    .dataframe tbody tr th {\n",
       "        vertical-align: top;\n",
       "    }\n",
       "\n",
       "    .dataframe thead th {\n",
       "        text-align: right;\n",
       "    }\n",
       "</style>\n",
       "<table border=\"1\" class=\"dataframe\">\n",
       "  <thead>\n",
       "    <tr style=\"text-align: right;\">\n",
       "      <th></th>\n",
       "      <th>Accuracy (training)</th>\n",
       "      <th>Accuracy (validation)</th>\n",
       "      <th>Precision (validation)</th>\n",
       "      <th>Recall (validation)</th>\n",
       "      <th>AUC</th>\n",
       "      <th>Training AUC</th>\n",
       "      <th>f1</th>\n",
       "      <th>Training f1</th>\n",
       "      <th>FP</th>\n",
       "      <th>FN</th>\n",
       "    </tr>\n",
       "  </thead>\n",
       "  <tbody>\n",
       "    <tr>\n",
       "      <th>Auto ML - Scoring on f1</th>\n",
       "      <td>0.914</td>\n",
       "      <td>0.825</td>\n",
       "      <td>0.820</td>\n",
       "      <td>0.809</td>\n",
       "      <td>0.809</td>\n",
       "      <td>0.897</td>\n",
       "      <td>0.813</td>\n",
       "      <td>0.906</td>\n",
       "      <td>10</td>\n",
       "      <td>15</td>\n",
       "    </tr>\n",
       "    <tr>\n",
       "      <th>LightGBM (Defaults)</th>\n",
       "      <td>0.961</td>\n",
       "      <td>0.818</td>\n",
       "      <td>0.810</td>\n",
       "      <td>0.806</td>\n",
       "      <td>0.806</td>\n",
       "      <td>0.954</td>\n",
       "      <td>0.808</td>\n",
       "      <td>0.958</td>\n",
       "      <td>12</td>\n",
       "      <td>14</td>\n",
       "    </tr>\n",
       "    <tr>\n",
       "      <th>Catboost (Defaults)</th>\n",
       "      <td>0.923</td>\n",
       "      <td>0.818</td>\n",
       "      <td>0.810</td>\n",
       "      <td>0.806</td>\n",
       "      <td>0.806</td>\n",
       "      <td>0.907</td>\n",
       "      <td>0.808</td>\n",
       "      <td>0.915</td>\n",
       "      <td>12</td>\n",
       "      <td>14</td>\n",
       "    </tr>\n",
       "    <tr>\n",
       "      <th>Auto ML - Default Parameters - Scoring on ROC AUC</th>\n",
       "      <td>0.863</td>\n",
       "      <td>0.811</td>\n",
       "      <td>0.802</td>\n",
       "      <td>0.800</td>\n",
       "      <td>0.800</td>\n",
       "      <td>0.846</td>\n",
       "      <td>0.801</td>\n",
       "      <td>0.851</td>\n",
       "      <td>13</td>\n",
       "      <td>14</td>\n",
       "    </tr>\n",
       "    <tr>\n",
       "      <th>Auto ML - scoring on ROC AUC - Training for ~11 minutes</th>\n",
       "      <td>0.884</td>\n",
       "      <td>0.797</td>\n",
       "      <td>0.787</td>\n",
       "      <td>0.792</td>\n",
       "      <td>0.792</td>\n",
       "      <td>0.863</td>\n",
       "      <td>0.789</td>\n",
       "      <td>0.872</td>\n",
       "      <td>16</td>\n",
       "      <td>13</td>\n",
       "    </tr>\n",
       "    <tr>\n",
       "      <th>XGBoost</th>\n",
       "      <td>0.979</td>\n",
       "      <td>0.797</td>\n",
       "      <td>0.788</td>\n",
       "      <td>0.786</td>\n",
       "      <td>0.786</td>\n",
       "      <td>0.973</td>\n",
       "      <td>0.787</td>\n",
       "      <td>0.977</td>\n",
       "      <td>14</td>\n",
       "      <td>15</td>\n",
       "    </tr>\n",
       "    <tr>\n",
       "      <th>Decision Tree (Defaults)</th>\n",
       "      <td>0.988</td>\n",
       "      <td>0.769</td>\n",
       "      <td>0.758</td>\n",
       "      <td>0.763</td>\n",
       "      <td>0.763</td>\n",
       "      <td>0.983</td>\n",
       "      <td>0.760</td>\n",
       "      <td>0.987</td>\n",
       "      <td>18</td>\n",
       "      <td>15</td>\n",
       "    </tr>\n",
       "    <tr>\n",
       "      <th>Random Forest (Defaults)</th>\n",
       "      <td>0.988</td>\n",
       "      <td>0.762</td>\n",
       "      <td>0.751</td>\n",
       "      <td>0.757</td>\n",
       "      <td>0.757</td>\n",
       "      <td>0.984</td>\n",
       "      <td>0.753</td>\n",
       "      <td>0.987</td>\n",
       "      <td>19</td>\n",
       "      <td>15</td>\n",
       "    </tr>\n",
       "  </tbody>\n",
       "</table>\n",
       "</div>"
      ],
      "text/plain": [
       "                                                    Accuracy (training)  \\\n",
       "Auto ML - Scoring on f1                                           0.914   \n",
       "LightGBM (Defaults)                                               0.961   \n",
       "Catboost (Defaults)                                               0.923   \n",
       "Auto ML - Default Parameters - Scoring on ROC AUC                 0.863   \n",
       "Auto ML - scoring on ROC AUC - Training for ~11...                0.884   \n",
       "XGBoost                                                           0.979   \n",
       "Decision Tree (Defaults)                                          0.988   \n",
       "Random Forest (Defaults)                                          0.988   \n",
       "\n",
       "                                                    Accuracy (validation)  \\\n",
       "Auto ML - Scoring on f1                                             0.825   \n",
       "LightGBM (Defaults)                                                 0.818   \n",
       "Catboost (Defaults)                                                 0.818   \n",
       "Auto ML - Default Parameters - Scoring on ROC AUC                   0.811   \n",
       "Auto ML - scoring on ROC AUC - Training for ~11...                  0.797   \n",
       "XGBoost                                                             0.797   \n",
       "Decision Tree (Defaults)                                            0.769   \n",
       "Random Forest (Defaults)                                            0.762   \n",
       "\n",
       "                                                    Precision (validation)  \\\n",
       "Auto ML - Scoring on f1                                              0.820   \n",
       "LightGBM (Defaults)                                                  0.810   \n",
       "Catboost (Defaults)                                                  0.810   \n",
       "Auto ML - Default Parameters - Scoring on ROC AUC                    0.802   \n",
       "Auto ML - scoring on ROC AUC - Training for ~11...                   0.787   \n",
       "XGBoost                                                              0.788   \n",
       "Decision Tree (Defaults)                                             0.758   \n",
       "Random Forest (Defaults)                                             0.751   \n",
       "\n",
       "                                                    Recall (validation)  \\\n",
       "Auto ML - Scoring on f1                                           0.809   \n",
       "LightGBM (Defaults)                                               0.806   \n",
       "Catboost (Defaults)                                               0.806   \n",
       "Auto ML - Default Parameters - Scoring on ROC AUC                 0.800   \n",
       "Auto ML - scoring on ROC AUC - Training for ~11...                0.792   \n",
       "XGBoost                                                           0.786   \n",
       "Decision Tree (Defaults)                                          0.763   \n",
       "Random Forest (Defaults)                                          0.757   \n",
       "\n",
       "                                                      AUC  Training AUC  \\\n",
       "Auto ML - Scoring on f1                             0.809         0.897   \n",
       "LightGBM (Defaults)                                 0.806         0.954   \n",
       "Catboost (Defaults)                                 0.806         0.907   \n",
       "Auto ML - Default Parameters - Scoring on ROC AUC   0.800         0.846   \n",
       "Auto ML - scoring on ROC AUC - Training for ~11...  0.792         0.863   \n",
       "XGBoost                                             0.786         0.973   \n",
       "Decision Tree (Defaults)                            0.763         0.983   \n",
       "Random Forest (Defaults)                            0.757         0.984   \n",
       "\n",
       "                                                       f1  Training f1  FP  FN  \n",
       "Auto ML - Scoring on f1                             0.813        0.906  10  15  \n",
       "LightGBM (Defaults)                                 0.808        0.958  12  14  \n",
       "Catboost (Defaults)                                 0.808        0.915  12  14  \n",
       "Auto ML - Default Parameters - Scoring on ROC AUC   0.801        0.851  13  14  \n",
       "Auto ML - scoring on ROC AUC - Training for ~11...  0.789        0.872  16  13  \n",
       "XGBoost                                             0.787        0.977  14  15  \n",
       "Decision Tree (Defaults)                            0.760        0.987  18  15  \n",
       "Random Forest (Defaults)                            0.753        0.987  19  15  "
      ]
     },
     "execution_count": 49,
     "metadata": {},
     "output_type": "execute_result"
    }
   ],
   "source": [
    "results_df.sort_values(\"Accuracy (validation)\", ascending=False)"
   ]
  },
  {
   "cell_type": "markdown",
   "metadata": {},
   "source": [
    "### Ranking model performance"
   ]
  },
  {
   "cell_type": "markdown",
   "metadata": {},
   "source": [
    "Let's look at another way to quickly compare the performance of the different models.\n",
    "\n",
    "We will rank each model by its performance against the other models, with a lower number indicating better performance relative to the other models (e.g. the model with the highest precision will be ranked 1; the model with the lowest number of false negatives will be ranked 1).\n",
    "\n",
    "We will omit training accuracy from our calculations as we are more interested in its likely 'real-world' performance on unseen data."
   ]
  },
  {
   "cell_type": "code",
   "execution_count": 50,
   "metadata": {},
   "outputs": [
    {
     "data": {
      "text/html": [
       "<div>\n",
       "<style scoped>\n",
       "    .dataframe tbody tr th:only-of-type {\n",
       "        vertical-align: middle;\n",
       "    }\n",
       "\n",
       "    .dataframe tbody tr th {\n",
       "        vertical-align: top;\n",
       "    }\n",
       "\n",
       "    .dataframe thead th {\n",
       "        text-align: right;\n",
       "    }\n",
       "</style>\n",
       "<table border=\"1\" class=\"dataframe\">\n",
       "  <thead>\n",
       "    <tr style=\"text-align: right;\">\n",
       "      <th></th>\n",
       "      <th>Accuracy (validation)</th>\n",
       "      <th>Precision (validation)</th>\n",
       "      <th>Recall (validation)</th>\n",
       "      <th>AUC</th>\n",
       "      <th>f1</th>\n",
       "      <th>FP</th>\n",
       "      <th>FN</th>\n",
       "      <th>Rank Sum</th>\n",
       "    </tr>\n",
       "  </thead>\n",
       "  <tbody>\n",
       "    <tr>\n",
       "      <th>Auto ML - Scoring on f1</th>\n",
       "      <td>1</td>\n",
       "      <td>1</td>\n",
       "      <td>1</td>\n",
       "      <td>1</td>\n",
       "      <td>1</td>\n",
       "      <td>1</td>\n",
       "      <td>3</td>\n",
       "      <td>9</td>\n",
       "    </tr>\n",
       "    <tr>\n",
       "      <th>LightGBM (Defaults)</th>\n",
       "      <td>2</td>\n",
       "      <td>2</td>\n",
       "      <td>2</td>\n",
       "      <td>2</td>\n",
       "      <td>2</td>\n",
       "      <td>2</td>\n",
       "      <td>2</td>\n",
       "      <td>14</td>\n",
       "    </tr>\n",
       "    <tr>\n",
       "      <th>Catboost (Defaults)</th>\n",
       "      <td>2</td>\n",
       "      <td>2</td>\n",
       "      <td>2</td>\n",
       "      <td>2</td>\n",
       "      <td>2</td>\n",
       "      <td>2</td>\n",
       "      <td>2</td>\n",
       "      <td>14</td>\n",
       "    </tr>\n",
       "    <tr>\n",
       "      <th>Auto ML - Default Parameters - Scoring on ROC AUC</th>\n",
       "      <td>3</td>\n",
       "      <td>3</td>\n",
       "      <td>3</td>\n",
       "      <td>3</td>\n",
       "      <td>3</td>\n",
       "      <td>3</td>\n",
       "      <td>2</td>\n",
       "      <td>20</td>\n",
       "    </tr>\n",
       "    <tr>\n",
       "      <th>Auto ML - scoring on ROC AUC - Training for ~11 minutes</th>\n",
       "      <td>4</td>\n",
       "      <td>5</td>\n",
       "      <td>4</td>\n",
       "      <td>4</td>\n",
       "      <td>4</td>\n",
       "      <td>5</td>\n",
       "      <td>1</td>\n",
       "      <td>27</td>\n",
       "    </tr>\n",
       "    <tr>\n",
       "      <th>XGBoost</th>\n",
       "      <td>4</td>\n",
       "      <td>4</td>\n",
       "      <td>5</td>\n",
       "      <td>5</td>\n",
       "      <td>5</td>\n",
       "      <td>4</td>\n",
       "      <td>3</td>\n",
       "      <td>30</td>\n",
       "    </tr>\n",
       "    <tr>\n",
       "      <th>Decision Tree (Defaults)</th>\n",
       "      <td>5</td>\n",
       "      <td>6</td>\n",
       "      <td>6</td>\n",
       "      <td>6</td>\n",
       "      <td>6</td>\n",
       "      <td>6</td>\n",
       "      <td>3</td>\n",
       "      <td>38</td>\n",
       "    </tr>\n",
       "    <tr>\n",
       "      <th>Random Forest (Defaults)</th>\n",
       "      <td>6</td>\n",
       "      <td>7</td>\n",
       "      <td>7</td>\n",
       "      <td>7</td>\n",
       "      <td>7</td>\n",
       "      <td>7</td>\n",
       "      <td>3</td>\n",
       "      <td>44</td>\n",
       "    </tr>\n",
       "  </tbody>\n",
       "</table>\n",
       "</div>"
      ],
      "text/plain": [
       "                                                    Accuracy (validation)  \\\n",
       "Auto ML - Scoring on f1                                                 1   \n",
       "LightGBM (Defaults)                                                     2   \n",
       "Catboost (Defaults)                                                     2   \n",
       "Auto ML - Default Parameters - Scoring on ROC AUC                       3   \n",
       "Auto ML - scoring on ROC AUC - Training for ~11...                      4   \n",
       "XGBoost                                                                 4   \n",
       "Decision Tree (Defaults)                                                5   \n",
       "Random Forest (Defaults)                                                6   \n",
       "\n",
       "                                                    Precision (validation)  \\\n",
       "Auto ML - Scoring on f1                                                  1   \n",
       "LightGBM (Defaults)                                                      2   \n",
       "Catboost (Defaults)                                                      2   \n",
       "Auto ML - Default Parameters - Scoring on ROC AUC                        3   \n",
       "Auto ML - scoring on ROC AUC - Training for ~11...                       5   \n",
       "XGBoost                                                                  4   \n",
       "Decision Tree (Defaults)                                                 6   \n",
       "Random Forest (Defaults)                                                 7   \n",
       "\n",
       "                                                    Recall (validation)  AUC  \\\n",
       "Auto ML - Scoring on f1                                               1    1   \n",
       "LightGBM (Defaults)                                                   2    2   \n",
       "Catboost (Defaults)                                                   2    2   \n",
       "Auto ML - Default Parameters - Scoring on ROC AUC                     3    3   \n",
       "Auto ML - scoring on ROC AUC - Training for ~11...                    4    4   \n",
       "XGBoost                                                               5    5   \n",
       "Decision Tree (Defaults)                                              6    6   \n",
       "Random Forest (Defaults)                                              7    7   \n",
       "\n",
       "                                                    f1  FP  FN  Rank Sum  \n",
       "Auto ML - Scoring on f1                              1   1   3         9  \n",
       "LightGBM (Defaults)                                  2   2   2        14  \n",
       "Catboost (Defaults)                                  2   2   2        14  \n",
       "Auto ML - Default Parameters - Scoring on ROC AUC    3   3   2        20  \n",
       "Auto ML - scoring on ROC AUC - Training for ~11...   4   5   1        27  \n",
       "XGBoost                                              5   4   3        30  \n",
       "Decision Tree (Defaults)                             6   6   3        38  \n",
       "Random Forest (Defaults)                             7   7   3        44  "
      ]
     },
     "execution_count": 50,
     "metadata": {},
     "output_type": "execute_result"
    }
   ],
   "source": [
    "ranking_df_high_good = results_df[['Accuracy (validation)', 'Precision (validation)', 'Recall (validation)', 'AUC', 'f1']].rank(method='dense', ascending=False).convert_dtypes()\n",
    "ranking_df_low_good = results_df[['FP', 'FN']].rank(method='dense', ascending=True).convert_dtypes()\n",
    "\n",
    "ranking_df = ranking_df_high_good.merge(ranking_df_low_good, left_index=True, right_index=True)\n",
    "\n",
    "ranking_df['Rank Sum'] = ranking_df.sum(axis=1)\n",
    "ranking_df = ranking_df.sort_values('Rank Sum', ascending=True).convert_dtypes()\n",
    "ranking_df"
   ]
  },
  {
   "cell_type": "markdown",
   "metadata": {},
   "source": [
    "We could plot this output as well as everything is on the same scale (though we will omit the rank sum) as that's much larger."
   ]
  },
  {
   "cell_type": "code",
   "execution_count": 51,
   "metadata": {},
   "outputs": [
    {
     "data": {
      "text/plain": [
       "<Axes: title={'center': 'Performance Ranking (Higher Rank Value = Worse)'}, xlabel='Rank of Performance'>"
      ]
     },
     "execution_count": 51,
     "metadata": {},
     "output_type": "execute_result"
    },
    {
     "data": {
      "image/png": "[encoded data removed]",
      "text/plain": [
       "<Figure size 640x480 with 1 Axes>"
      ]
     },
     "metadata": {},
     "output_type": "display_data"
    }
   ],
   "source": [
    "ranking_df.drop(columns=\"Rank Sum\").plot(\n",
    "    kind=\"barh\",\n",
    "    title=\"Performance Ranking (Higher Rank Value = Worse)\",\n",
    "    xlabel=\"Rank of Performance\"\n",
    "    )"
   ]
  }
 ],
 "metadata": {
  "kernelspec": {
   "display_name": "ml",
   "language": "python",
   "name": "python3"
  },
  "language_info": {
   "codemirror_mode": {
    "name": "ipython",
    "version": 3
   },
   "file_extension": ".py",
   "mimetype": "text/x-python",
   "name": "python",
   "nbconvert_exporter": "python",
   "pygments_lexer": "ipython3",
   "version": "3.11.4"
  }
 },
 "nbformat": 4,
 "nbformat_minor": 2
}
